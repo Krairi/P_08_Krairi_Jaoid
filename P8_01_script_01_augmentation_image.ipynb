{
 "cells": [
  {
   "cell_type": "markdown",
   "id": "3d29cf37",
   "metadata": {},
   "source": [
    "# Projet 8: Participez à la conception d'une voiture autonome"
   ]
  },
  {
   "cell_type": "markdown",
   "id": "0bbdaa0f",
   "metadata": {},
   "source": [
    "## Augmenter le nombre d'image"
   ]
  },
  {
   "cell_type": "markdown",
   "id": "140af760",
   "metadata": {},
   "source": [
    "### Importation de la librairie"
   ]
  },
  {
   "cell_type": "code",
   "execution_count": 1,
   "id": "1eec6db9",
   "metadata": {},
   "outputs": [],
   "source": [
    "import os\n",
    "import matplotlib.pyplot as plt\n",
    "import numpy as np\n",
    "from tensorflow.keras.preprocessing import image\n",
    "import Augmentor\n",
    "import tqdm"
   ]
  },
  {
   "cell_type": "markdown",
   "id": "287b2b3d",
   "metadata": {},
   "source": [
    "### Nombre d'image avant l'augmentation"
   ]
  },
  {
   "cell_type": "code",
   "execution_count": 2,
   "id": "3656bbd1",
   "metadata": {},
   "outputs": [
    {
     "name": "stdout",
     "output_type": "stream",
     "text": [
      "Number of images: 2975\n",
      "Number of masks: 2975\n",
      "0003.jpg 0003.jpg\n"
     ]
    }
   ],
   "source": [
    "image_dir = 'data_f/image_train'\n",
    "mask_dir = 'data_f/masque_train'\n",
    "image_list = os.listdir(image_dir)\n",
    "mask_list = os.listdir(mask_dir)\n",
    "image_list.sort()\n",
    "mask_list.sort()\n",
    "print(f'Number of images: {len(image_list)}\\nNumber of masks: {len(mask_list)}')\n",
    "\n",
    "# sanity check\n",
    "for i in range(len(image_list)):\n",
    "    assert image_list[i] == mask_list[i]\n",
    "print(image_list[2], mask_list[2])  "
   ]
  },
  {
   "cell_type": "markdown",
   "id": "183ae38d",
   "metadata": {},
   "source": [
    "### Initialiser et Dèfinir le dossier de stockage"
   ]
  },
  {
   "cell_type": "code",
   "execution_count": 3,
   "id": "b8c4aa3c",
   "metadata": {},
   "outputs": [
    {
     "name": "stdout",
     "output_type": "stream",
     "text": [
      "Initialised with 2975 image(s) found.\n",
      "Output directory set to data_f/image_train\\aug_dataset/images."
     ]
    }
   ],
   "source": [
    "p = Augmentor.Pipeline('data_f/image_train', output_directory='aug_dataset/images')"
   ]
  },
  {
   "cell_type": "markdown",
   "id": "4336b4d0",
   "metadata": {},
   "source": [
    "### Dèfinire les différentes fonctions à appliquer sur mes images et masks"
   ]
  },
  {
   "cell_type": "code",
   "execution_count": 4,
   "id": "990e41d1",
   "metadata": {},
   "outputs": [
    {
     "name": "stderr",
     "output_type": "stream",
     "text": [
      "                                                         "
     ]
    },
    {
     "name": "stdout",
     "output_type": "stream",
     "text": [
      "2975 ground truth image(s) found.\n"
     ]
    },
    {
     "name": "stderr",
     "output_type": "stream",
     "text": [
      "\r"
     ]
    }
   ],
   "source": [
    "p.ground_truth('data_f/masque_train')\n",
    "p.rotate(probability=1, max_left_rotation=10, max_right_rotation=10)\n",
    "p.flip_left_right(probability=0.5)\n",
    "p.zoom_random(probability=0.5, percentage_area=0.8)\n",
    "p.skew(probability=0.5, magnitude=0.5)\n",
    "p.skew_tilt(probability=0.5, magnitude=0.5)\n",
    "p.random_distortion(probability=0.5,grid_height=4, grid_width=4, magnitude=4)\n",
    "p.shear(probability=0.5, max_shear_left=10, max_shear_right=10)\n",
    "p.gaussian_distortion(probability=0.5, corner='bell', method='in', grid_height=4, grid_width=4, magnitude=4)\n",
    "p.skew_top_bottom(probability=0.5, magnitude=.5)\n",
    "p.skew_left_right(probability=0.5, magnitude=.5)\n",
    "p.skew_corner(probability=0.5, magnitude=.5)\n",
    "p.resize(probability=1,width=256, height=256)"
   ]
  },
  {
   "cell_type": "markdown",
   "id": "55c4320a",
   "metadata": {},
   "source": [
    "### Appliquer les fonctions pour obtenir 5000 images avec leurs masks respectifs"
   ]
  },
  {
   "cell_type": "code",
   "execution_count": 5,
   "id": "c0bc7c1b",
   "metadata": {},
   "outputs": [
    {
     "name": "stderr",
     "output_type": "stream",
     "text": [
      "Processing <PIL.Image.Image image mode=RGB size=256x256 at 0x2ABA12522B0>: 100%|██████████| 5000/5000 [03:31<00:00, 23.68 Samples/s]\n"
     ]
    }
   ],
   "source": [
    "p.sample(5000)"
   ]
  },
  {
   "cell_type": "markdown",
   "id": "3d24feba",
   "metadata": {},
   "source": [
    "### Nombre d'image après l'augmentation"
   ]
  },
  {
   "cell_type": "code",
   "execution_count": 6,
   "id": "01e50abd",
   "metadata": {},
   "outputs": [
    {
     "name": "stdout",
     "output_type": "stream",
     "text": [
      "Number of images: 5000\n",
      "Number of masks: 5000\n",
      "0003.jpg 0003.jpg\n"
     ]
    }
   ],
   "source": [
    "image_dir = 'aug_dataset/images'\n",
    "mask_dir = 'aug_dataset/masks'\n",
    "image_list = os.listdir(image_dir)\n",
    "mask_list = os.listdir(mask_dir)\n",
    "image_list.sort()\n",
    "mask_list.sort()\n",
    "print(f'Number of images: {len(image_list)}\\nNumber of masks: {len(mask_list)}')\n",
    "\n",
    "# sanity check\n",
    "for i in range(len(image_list)):\n",
    "    assert image_list[i] == mask_list[i]\n",
    "print(image_list[2], mask_list[2])  "
   ]
  },
  {
   "cell_type": "markdown",
   "id": "897ee27d",
   "metadata": {},
   "source": [
    "Voici un nouveau jeu de données images et maks créer pour mon jeu d'entrainement"
   ]
  },
  {
   "cell_type": "code",
   "execution_count": null,
   "id": "3b91b75f",
   "metadata": {},
   "outputs": [],
   "source": []
  }
 ],
 "metadata": {
  "kernelspec": {
   "display_name": "Python 3 (ipykernel)",
   "language": "python",
   "name": "python3"
  },
  "language_info": {
   "codemirror_mode": {
    "name": "ipython",
    "version": 3
   },
   "file_extension": ".py",
   "mimetype": "text/x-python",
   "name": "python",
   "nbconvert_exporter": "python",
   "pygments_lexer": "ipython3",
   "version": "3.9.7"
  }
 },
 "nbformat": 4,
 "nbformat_minor": 5
}
